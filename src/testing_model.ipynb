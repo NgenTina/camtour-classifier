{
 "cells": [
  {
   "cell_type": "markdown",
   "id": "afd373db",
   "metadata": {},
   "source": [
    "## **Testing the Model**\n"
   ]
  },
  {
   "cell_type": "markdown",
   "id": "a0944735",
   "metadata": {
    "vscode": {
     "languageId": "plaintext"
    }
   },
   "source": [
    "### Model: **bart-large-mnli**"
   ]
  },
  {
   "cell_type": "code",
   "execution_count": 2,
   "id": "74aee0b5",
   "metadata": {},
   "outputs": [
    {
     "name": "stdout",
     "output_type": "stream",
     "text": [
      "2.8.0+cpu\n"
     ]
    }
   ],
   "source": [
    "import torch\n",
    "print(torch.__version__)"
   ]
  },
  {
   "cell_type": "markdown",
   "id": "16c0de5d",
   "metadata": {},
   "source": [
    "**Zero-Shot avec Pipeline**\n",
    "\n",
    "To provide a simple, \"one-liner\" interface for common natural language processing (NLP) tasks. It's designed for ease of use and quick prototyping.\n",
    "\n",
    "It automatically handles all the steps for you:\n",
    "\n",
    "- Preprocessing: Tokenizes your text (converts words to numbers).\n",
    "\n",
    "- Model Inference: Passes the tokens through the model.\n",
    "\n",
    "- Post-processing: Takes the model's raw output and converts it into a human-readable format (e.g., softmax scores, labels)."
   ]
  },
  {
   "cell_type": "code",
   "execution_count": 1,
   "id": "63db2a39",
   "metadata": {},
   "outputs": [
    {
     "name": "stderr",
     "output_type": "stream",
     "text": [
      "Device set to use cpu\n"
     ]
    }
   ],
   "source": [
    "# Use a pipeline as a high-level helper\n",
    "from transformers import pipeline\n",
    "\n",
    "\n",
    "pipe = pipeline(\"zero-shot-classification\", model=\"facebook/bart-large-mnli\", clean_up_tokenization_spaces=True)"
   ]
  },
  {
   "cell_type": "code",
   "execution_count": 4,
   "id": "22267619",
   "metadata": {},
   "outputs": [
    {
     "data": {
      "text/plain": [
       "{'sequence': 'you are all I need',\n",
       " 'labels': ['love', 'flirting', 'mocking'],\n",
       " 'scores': [0.5815867185592651, 0.2621539235115051, 0.15625937283039093]}"
      ]
     },
     "execution_count": 4,
     "metadata": {},
     "output_type": "execute_result"
    }
   ],
   "source": [
    "sequence_to_classify = \"you are all I need\"\n",
    "candidate_labels = ['love', 'mocking', 'flirting']\n",
    "pipe(sequence_to_classify, candidate_labels)"
   ]
  },
  {
   "cell_type": "markdown",
   "id": "b51500c6",
   "metadata": {},
   "source": [
    "**Direct Loading**\n",
    "\n",
    "To give the user full control over the entire process. This is necessary for advanced use cases.\n",
    "\n",
    "What it does:\n",
    "\n",
    "+ It breaks the pipeline's magic into its individual, explicit steps.\n",
    "\n",
    "+ You manually handle:\n",
    "\n",
    "    - Tokenization\n",
    "\n",
    "    - Passing inputs to the model\n",
    "\n",
    "    - Interpreting the model's raw output (logits)"
   ]
  },
  {
   "cell_type": "code",
   "execution_count": 5,
   "id": "96c3927b",
   "metadata": {},
   "outputs": [],
   "source": [
    "# Load model directly\n",
    "from transformers import AutoTokenizer, AutoModelForSequenceClassification\n",
    "\n",
    "tokenizer = AutoTokenizer.from_pretrained(\"facebook/bart-large-mnli\")\n",
    "model = AutoModelForSequenceClassification.from_pretrained(\"facebook/bart-large-mnli\")"
   ]
  },
  {
   "cell_type": "code",
   "execution_count": 10,
   "id": "7a38623c",
   "metadata": {},
   "outputs": [
    {
     "name": "stdout",
     "output_type": "stream",
     "text": [
      "{'contradiction': 0, 'entailment': 2, 'neutral': 1}\n"
     ]
    }
   ],
   "source": [
    "print(model.config.label2id)"
   ]
  },
  {
   "cell_type": "code",
   "execution_count": 12,
   "id": "c3d9996f",
   "metadata": {},
   "outputs": [
    {
     "name": "stdout",
     "output_type": "stream",
     "text": [
      "{'sequence': 'you are all I need', 'labels': ['love', 'mocking', 'flirting'], 'scores': [0.5580359697341919, 0.27639028429985046, 0.16557373106479645]}\n"
     ]
    }
   ],
   "source": [
    "# Your inputs\n",
    "sequence_to_classify = \"you are all I need\"\n",
    "candidate_labels = ['love', 'mocking', 'flirting']\n",
    "\n",
    "# 1. Tokenize the sequence WITH the candidate labels (this is key for zero-shot)\n",
    "# Use the `text_pair` argument explicitly for candidate labels\n",
    "inputs = tokenizer(\n",
    "    [sequence_to_classify] * len(candidate_labels),  # Repeat the sequence for each label\n",
    "    text_pair=candidate_labels,  # Use candidate labels as the second input\n",
    "    return_tensors=\"pt\",\n",
    "    padding=True,\n",
    "    truncation=True\n",
    ")\n",
    "\n",
    "# 2. Run the model\n",
    "with torch.no_grad():\n",
    "    outputs = model(**inputs)\n",
    "\n",
    "# 3. Get the predictions (logits)\n",
    "logits = outputs.logits\n",
    "\n",
    "# 4. You need to interpret these logits for a zero-shot task.\n",
    "# The BERT NLI model gives output for entailment, contradiction, and neutral.\n",
    "# For zero-shot, we typically take the \"entailment\" score for each label.\n",
    "entailment_logits = logits[:, model.config.label2id['entailment']]  # Get the logits for the ENTAILMENT class\n",
    "\n",
    "# 5. Apply softmax to get probabilities\n",
    "probs = entailment_logits.softmax(dim=0)  # Use dim=1 for batch processing\n",
    "\n",
    "# 6. Now you can print the results\n",
    "scores = probs.tolist()\n",
    "result = {\"sequence\": sequence_to_classify, \"labels\": candidate_labels, \"scores\": scores}\n",
    "print(result)"
   ]
  }
 ],
 "metadata": {
  "kernelspec": {
   "display_name": ".venv",
   "language": "python",
   "name": "python3"
  },
  "language_info": {
   "codemirror_mode": {
    "name": "ipython",
    "version": 3
   },
   "file_extension": ".py",
   "mimetype": "text/x-python",
   "name": "python",
   "nbconvert_exporter": "python",
   "pygments_lexer": "ipython3",
   "version": "3.12.11"
  }
 },
 "nbformat": 4,
 "nbformat_minor": 5
}
